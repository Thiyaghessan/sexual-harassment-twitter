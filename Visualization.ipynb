{
 "cells": [
  {
   "cell_type": "code",
   "execution_count": 5,
   "id": "7c379de2",
   "metadata": {},
   "outputs": [],
   "source": [
    "import pandas as pd\n",
    "import numpy as np\n",
    "from dash import Dash, html, dcc\n",
    "import plotly.express as px\n",
    "from dash.dependencies import Input, Output\n",
    "import plotly.graph_objects as go\n",
    "import plotly.figure_factory as ff"
   ]
  },
  {
   "cell_type": "code",
   "execution_count": 8,
   "id": "97a885f6",
   "metadata": {},
   "outputs": [],
   "source": [
    "import warnings\n",
    "warnings.filterwarnings('ignore')"
   ]
  },
  {
   "cell_type": "code",
   "execution_count": 13,
   "id": "cd64ca66",
   "metadata": {},
   "outputs": [],
   "source": [
    "df = pd.read_csv(\"./test_final.csv\")\n",
    "df = df.iloc[: , 1:]"
   ]
  },
  {
   "cell_type": "code",
   "execution_count": 14,
   "id": "a6d14724",
   "metadata": {},
   "outputs": [
    {
     "data": {
      "text/html": [
       "<div>\n",
       "<style scoped>\n",
       "    .dataframe tbody tr th:only-of-type {\n",
       "        vertical-align: middle;\n",
       "    }\n",
       "\n",
       "    .dataframe tbody tr th {\n",
       "        vertical-align: top;\n",
       "    }\n",
       "\n",
       "    .dataframe thead th {\n",
       "        text-align: right;\n",
       "    }\n",
       "</style>\n",
       "<table border=\"1\" class=\"dataframe\">\n",
       "  <thead>\n",
       "    <tr style=\"text-align: right;\">\n",
       "      <th></th>\n",
       "      <th>ID</th>\n",
       "      <th>Year</th>\n",
       "      <th>First Name</th>\n",
       "      <th>Middle Name</th>\n",
       "      <th>Last Name</th>\n",
       "      <th>party</th>\n",
       "      <th>Level</th>\n",
       "      <th>Position</th>\n",
       "      <th>state</th>\n",
       "      <th>race_ethnicity</th>\n",
       "      <th>state_name</th>\n",
       "      <th>ideology</th>\n",
       "      <th>leadership</th>\n",
       "    </tr>\n",
       "  </thead>\n",
       "  <tbody>\n",
       "    <tr>\n",
       "      <th>0</th>\n",
       "      <td>196595k</td>\n",
       "      <td>2022</td>\n",
       "      <td>Alma</td>\n",
       "      <td>S.</td>\n",
       "      <td>Adams</td>\n",
       "      <td>Democrat</td>\n",
       "      <td>Congress</td>\n",
       "      <td>U.S. Representative</td>\n",
       "      <td>NC</td>\n",
       "      <td>Black</td>\n",
       "      <td>North Carolina</td>\n",
       "      <td>0.221420</td>\n",
       "      <td>0.736368</td>\n",
       "    </tr>\n",
       "    <tr>\n",
       "      <th>1</th>\n",
       "      <td>627442k</td>\n",
       "      <td>2022</td>\n",
       "      <td>Cindy</td>\n",
       "      <td>NaN</td>\n",
       "      <td>Axne</td>\n",
       "      <td>Democrat</td>\n",
       "      <td>Congress</td>\n",
       "      <td>U.S. Representative</td>\n",
       "      <td>IA</td>\n",
       "      <td>White</td>\n",
       "      <td>Iowa</td>\n",
       "      <td>0.508275</td>\n",
       "      <td>0.465520</td>\n",
       "    </tr>\n",
       "    <tr>\n",
       "      <th>2</th>\n",
       "      <td>226476k</td>\n",
       "      <td>2022</td>\n",
       "      <td>Karen</td>\n",
       "      <td>R.</td>\n",
       "      <td>Bass</td>\n",
       "      <td>Democrat</td>\n",
       "      <td>Congress</td>\n",
       "      <td>U.S. Representative</td>\n",
       "      <td>CA</td>\n",
       "      <td>Black</td>\n",
       "      <td>California</td>\n",
       "      <td>0.153370</td>\n",
       "      <td>0.849639</td>\n",
       "    </tr>\n",
       "    <tr>\n",
       "      <th>3</th>\n",
       "      <td>197852k</td>\n",
       "      <td>2022</td>\n",
       "      <td>Joyce</td>\n",
       "      <td>B.</td>\n",
       "      <td>Beatty</td>\n",
       "      <td>Democrat</td>\n",
       "      <td>Congress</td>\n",
       "      <td>U.S. Representative</td>\n",
       "      <td>OH</td>\n",
       "      <td>Black</td>\n",
       "      <td>Ohio</td>\n",
       "      <td>0.254428</td>\n",
       "      <td>0.639839</td>\n",
       "    </tr>\n",
       "    <tr>\n",
       "      <th>4</th>\n",
       "      <td>495403k</td>\n",
       "      <td>2022</td>\n",
       "      <td>Stephanie</td>\n",
       "      <td>NaN</td>\n",
       "      <td>Bice</td>\n",
       "      <td>Republican</td>\n",
       "      <td>Congress</td>\n",
       "      <td>U.S. Representative</td>\n",
       "      <td>OK</td>\n",
       "      <td>White</td>\n",
       "      <td>Oklahoma</td>\n",
       "      <td>NaN</td>\n",
       "      <td>NaN</td>\n",
       "    </tr>\n",
       "  </tbody>\n",
       "</table>\n",
       "</div>"
      ],
      "text/plain": [
       "        ID  Year First Name Middle Name Last Name       party     Level  \\\n",
       "0  196595k  2022       Alma          S.     Adams    Democrat  Congress   \n",
       "1  627442k  2022      Cindy         NaN      Axne    Democrat  Congress   \n",
       "2  226476k  2022      Karen          R.      Bass    Democrat  Congress   \n",
       "3  197852k  2022      Joyce          B.    Beatty    Democrat  Congress   \n",
       "4  495403k  2022  Stephanie         NaN      Bice  Republican  Congress   \n",
       "\n",
       "              Position state race_ethnicity      state_name  ideology  \\\n",
       "0  U.S. Representative    NC          Black  North Carolina  0.221420   \n",
       "1  U.S. Representative    IA          White            Iowa  0.508275   \n",
       "2  U.S. Representative    CA          Black      California  0.153370   \n",
       "3  U.S. Representative    OH          Black            Ohio  0.254428   \n",
       "4  U.S. Representative    OK          White        Oklahoma       NaN   \n",
       "\n",
       "   leadership  \n",
       "0    0.736368  \n",
       "1    0.465520  \n",
       "2    0.849639  \n",
       "3    0.639839  \n",
       "4         NaN  "
      ]
     },
     "execution_count": 14,
     "metadata": {},
     "output_type": "execute_result"
    }
   ],
   "source": [
    "df.head()"
   ]
  },
  {
   "cell_type": "code",
   "execution_count": 63,
   "id": "193d6817",
   "metadata": {},
   "outputs": [
    {
     "name": "stdout",
     "output_type": "stream",
     "text": [
      "number of states with at least one female politician: 40\n"
     ]
    }
   ],
   "source": [
    "state_party_df = df[['party', 'state']]\n",
    "#democrats = 1, republicans = 2\n",
    "state_party_df['party'].replace(['Democrat', 'Republican'],\n",
    "                        [1, 2], inplace=True)\n",
    "party_scores = state_party_df.groupby('state').mean()\n",
    "print('number of states with at least one female politician:', len(party_scores))"
   ]
  },
  {
   "cell_type": "code",
   "execution_count": null,
   "id": "7cf21b53",
   "metadata": {},
   "outputs": [
    {
     "name": "stdout",
     "output_type": "stream",
     "text": [
      "Dash is running on http://127.0.0.1:8050/\n",
      "\n",
      " * Serving Flask app '__main__' (lazy loading)\n",
      " * Environment: production\n",
      "\u001b[31m   WARNING: This is a development server. Do not use it in a production deployment.\u001b[0m\n",
      "\u001b[2m   Use a production WSGI server instead.\u001b[0m\n",
      " * Debug mode: off\n"
     ]
    },
    {
     "name": "stderr",
     "output_type": "stream",
     "text": [
      " * Running on http://127.0.0.1:8050/ (Press CTRL+C to quit)\n",
      "127.0.0.1 - - [26/Feb/2022 15:38:20] \"GET / HTTP/1.1\" 200 -\n",
      "127.0.0.1 - - [26/Feb/2022 15:38:20] \"GET /_dash-component-suites/dash/deps/polyfill@7.v2_2_0m1645908467.12.1.min.js HTTP/1.1\" 200 -\n",
      "127.0.0.1 - - [26/Feb/2022 15:38:20] \"GET /_dash-component-suites/dash/deps/react-dom@16.v2_2_0m1645908467.14.0.min.js HTTP/1.1\" 200 -\n",
      "127.0.0.1 - - [26/Feb/2022 15:38:20] \"GET /_dash-component-suites/dash/deps/react@16.v2_2_0m1645908467.14.0.min.js HTTP/1.1\" 200 -\n",
      "127.0.0.1 - - [26/Feb/2022 15:38:20] \"GET /_dash-component-suites/dash/deps/prop-types@15.v2_2_0m1645908467.7.2.min.js HTTP/1.1\" 200 -\n",
      "127.0.0.1 - - [26/Feb/2022 15:38:20] \"GET /_dash-component-suites/dash/dash-renderer/build/dash_renderer.v2_2_0m1645908467.min.js HTTP/1.1\" 200 -\n",
      "127.0.0.1 - - [26/Feb/2022 15:38:20] \"GET /_dash-component-suites/dash/dcc/dash_core_components-shared.v2_2_0m1645908467.js HTTP/1.1\" 200 -\n",
      "127.0.0.1 - - [26/Feb/2022 15:38:20] \"GET /_dash-component-suites/dash/dcc/dash_core_components.v2_2_0m1645908467.js HTTP/1.1\" 200 -\n",
      "127.0.0.1 - - [26/Feb/2022 15:38:20] \"GET /_dash-component-suites/dash/html/dash_html_components.v2_0_2m1645908467.min.js HTTP/1.1\" 200 -\n",
      "127.0.0.1 - - [26/Feb/2022 15:38:20] \"GET /_dash-component-suites/dash/dash_table/bundle.v5_1_1m1645908467.js HTTP/1.1\" 200 -\n",
      "127.0.0.1 - - [26/Feb/2022 15:38:20] \"GET /_dash-dependencies HTTP/1.1\" 200 -\n",
      "127.0.0.1 - - [26/Feb/2022 15:38:20] \"GET /_dash-layout HTTP/1.1\" 200 -\n",
      "127.0.0.1 - - [26/Feb/2022 15:38:20] \"GET /_dash-component-suites/dash/dcc/async-graph.js HTTP/1.1\" 200 -\n",
      "127.0.0.1 - - [26/Feb/2022 15:38:20] \"GET /_dash-component-suites/dash/dcc/async-plotlyjs.js HTTP/1.1\" 200 -\n"
     ]
    }
   ],
   "source": [
    "from dash import Dash, html, dcc\n",
    "import plotly.express as px\n",
    "import pandas as pd\n",
    "import plotly.figure_factory as ff\n",
    "\n",
    "app = Dash(__name__)\n",
    "\n",
    "# assume you have a \"long-form\" data frame\n",
    "# see https://plotly.com/python/px-arguments/ for more options\n",
    "\n",
    "fig = px.bar(df, x=\"Last Name\", y=\"ideology\", color=\"party\", barmode=\"group\")\n",
    "\n",
    "\n",
    "app.layout = html.Div(children=[\n",
    "    html.H1(children='Hello Dash'),\n",
    "\n",
    "    html.Div(children='''\n",
    "        Dash: A web application framework for your data.\n",
    "    '''),\n",
    "\n",
    "    dcc.Graph(\n",
    "        id='example-graph',\n",
    "        figure=fig\n",
    "    )\n",
    "])\n",
    "\n",
    "if __name__ == '__main__':\n",
    "    app.run_server()"
   ]
  },
  {
   "cell_type": "code",
   "execution_count": 12,
   "id": "49786033",
   "metadata": {},
   "outputs": [
    {
     "data": {
      "application/vnd.plotly.v1+json": {
       "config": {
        "plotlyServerURL": "https://plot.ly"
       },
       "data": [
        {
         "fill": "toself",
         "fillcolor": "#f7fbff",
         "hoverinfo": "none",
         "line": {
          "color": "rgb(0, 0, 0)",
          "width": 0
         },
         "mode": "lines",
         "name": "< 1.0",
         "type": "scatter",
         "x": [],
         "y": []
        },
        {
         "fill": "toself",
         "fillcolor": "#ebf3fb",
         "hoverinfo": "none",
         "line": {
          "color": "rgb(0, 0, 0)",
          "width": 0
         },
         "mode": "lines",
         "name": "1.0 - 1.73",
         "type": "scatter",
         "x": [],
         "y": []
        },
        {
         "fill": "toself",
         "fillcolor": "#deebf7",
         "hoverinfo": "none",
         "line": {
          "color": "rgb(0, 0, 0)",
          "width": 0
         },
         "mode": "lines",
         "name": "1.73 - 2.47",
         "type": "scatter",
         "x": [],
         "y": []
        },
        {
         "fill": "toself",
         "fillcolor": "#d2e3f3",
         "hoverinfo": "none",
         "line": {
          "color": "rgb(0, 0, 0)",
          "width": 0
         },
         "mode": "lines",
         "name": "2.47 - 3.2",
         "type": "scatter",
         "x": [],
         "y": []
        },
        {
         "fill": "toself",
         "fillcolor": "#c6dbef",
         "hoverinfo": "none",
         "line": {
          "color": "rgb(0, 0, 0)",
          "width": 0
         },
         "mode": "lines",
         "name": "3.2 - 3.93",
         "type": "scatter",
         "x": [],
         "y": []
        },
        {
         "fill": "toself",
         "fillcolor": "#b3d2e9",
         "hoverinfo": "none",
         "line": {
          "color": "rgb(0, 0, 0)",
          "width": 0
         },
         "mode": "lines",
         "name": "3.93 - 4.67",
         "type": "scatter",
         "x": [],
         "y": []
        },
        {
         "fill": "toself",
         "fillcolor": "#9ecae1",
         "hoverinfo": "none",
         "line": {
          "color": "rgb(0, 0, 0)",
          "width": 0
         },
         "mode": "lines",
         "name": "4.67 - 5.4",
         "type": "scatter",
         "x": [],
         "y": []
        },
        {
         "fill": "toself",
         "fillcolor": "#85bcdb",
         "hoverinfo": "none",
         "line": {
          "color": "rgb(0, 0, 0)",
          "width": 0
         },
         "mode": "lines",
         "name": "5.4 - 6.13",
         "type": "scatter",
         "x": [],
         "y": []
        },
        {
         "fill": "toself",
         "fillcolor": "#6baed6",
         "hoverinfo": "none",
         "line": {
          "color": "rgb(0, 0, 0)",
          "width": 0
         },
         "mode": "lines",
         "name": "6.13 - 6.87",
         "type": "scatter",
         "x": [],
         "y": []
        },
        {
         "fill": "toself",
         "fillcolor": "#57a0ce",
         "hoverinfo": "none",
         "line": {
          "color": "rgb(0, 0, 0)",
          "width": 0
         },
         "mode": "lines",
         "name": "6.87 - 7.6",
         "type": "scatter",
         "x": [],
         "y": []
        },
        {
         "fill": "toself",
         "fillcolor": "#4292c6",
         "hoverinfo": "none",
         "line": {
          "color": "rgb(0, 0, 0)",
          "width": 0
         },
         "mode": "lines",
         "name": "7.6 - 8.33",
         "type": "scatter",
         "x": [],
         "y": []
        },
        {
         "fill": "toself",
         "fillcolor": "#3082be",
         "hoverinfo": "none",
         "line": {
          "color": "rgb(0, 0, 0)",
          "width": 0
         },
         "mode": "lines",
         "name": "8.33 - 9.07",
         "type": "scatter",
         "x": [],
         "y": []
        },
        {
         "fill": "toself",
         "fillcolor": "#2171b5",
         "hoverinfo": "none",
         "line": {
          "color": "rgb(0, 0, 0)",
          "width": 0
         },
         "mode": "lines",
         "name": "9.07 - 9.8",
         "type": "scatter",
         "x": [],
         "y": []
        },
        {
         "fill": "toself",
         "fillcolor": "#1361a9",
         "hoverinfo": "none",
         "line": {
          "color": "rgb(0, 0, 0)",
          "width": 0
         },
         "mode": "lines",
         "name": "9.8 - 10.53",
         "type": "scatter",
         "x": [],
         "y": []
        },
        {
         "fill": "toself",
         "fillcolor": "#08519c",
         "hoverinfo": "none",
         "line": {
          "color": "rgb(0, 0, 0)",
          "width": 0
         },
         "mode": "lines",
         "name": "10.53 - 11.27",
         "type": "scatter",
         "x": [],
         "y": []
        },
        {
         "fill": "toself",
         "fillcolor": "#0b4083",
         "hoverinfo": "none",
         "line": {
          "color": "rgb(0, 0, 0)",
          "width": 0
         },
         "mode": "lines",
         "name": "11.27 - 12.0",
         "type": "scatter",
         "x": [],
         "y": []
        },
        {
         "fill": "toself",
         "fillcolor": "#08306b",
         "hoverinfo": "none",
         "line": {
          "color": "rgb(0, 0, 0)",
          "width": 0
         },
         "mode": "lines",
         "name": "> 12.0",
         "type": "scatter",
         "x": [],
         "y": []
        },
        {
         "hoverinfo": "text",
         "legendgroup": "centroids",
         "marker": {
          "color": "white",
          "opacity": 0
         },
         "mode": "markers",
         "name": "US Counties",
         "selected": {
          "marker": {
           "opacity": 0
          }
         },
         "showlegend": false,
         "text": [],
         "type": "scatter",
         "unselected": {
          "marker": {
           "opacity": 0
          }
         },
         "x": [],
         "y": []
        }
       ],
       "layout": {
        "annotations": [
         {
          "showarrow": false,
          "text": "<b>% unemployed</b>",
          "x": 1,
          "xanchor": "right",
          "xref": "paper",
          "y": 1.05,
          "yref": "paper"
         }
        ],
        "dragmode": "select",
        "height": 450,
        "hovermode": "closest",
        "legend": {
         "traceorder": "reversed",
         "x": 1,
         "xanchor": "right",
         "y": 1,
         "yanchor": "top"
        },
        "margin": {
         "b": 20,
         "l": 20,
         "r": 20,
         "t": 40
        },
        "title": {
         "text": "USA by Unemployment %"
        },
        "width": 900,
        "xaxis": {
         "autorange": false,
         "fixedrange": true,
         "range": [
          -125,
          -55
         ],
         "showgrid": false,
         "showticklabels": false,
         "zeroline": false
        },
        "yaxis": {
         "autorange": false,
         "fixedrange": true,
         "range": [
          24.93103448275862,
          49.06896551724138
         ],
         "showgrid": false,
         "showticklabels": false,
         "zeroline": false
        }
       }
      },
      "text/html": [
       "<div>                            <div id=\"2a1d177f-85f7-4af9-b190-854dec00a99b\" class=\"plotly-graph-div\" style=\"height:450px; width:900px;\"></div>            <script type=\"text/javascript\">                require([\"plotly\"], function(Plotly) {                    window.PLOTLYENV=window.PLOTLYENV || {};                                    if (document.getElementById(\"2a1d177f-85f7-4af9-b190-854dec00a99b\")) {                    Plotly.newPlot(                        \"2a1d177f-85f7-4af9-b190-854dec00a99b\",                        [{\"fill\":\"toself\",\"fillcolor\":\"#f7fbff\",\"hoverinfo\":\"none\",\"line\":{\"color\":\"rgb(0, 0, 0)\",\"width\":0},\"mode\":\"lines\",\"name\":\"< 1.0\",\"x\":[],\"y\":[],\"type\":\"scatter\"},{\"fill\":\"toself\",\"fillcolor\":\"#ebf3fb\",\"hoverinfo\":\"none\",\"line\":{\"color\":\"rgb(0, 0, 0)\",\"width\":0},\"mode\":\"lines\",\"name\":\"1.0 - 1.73\",\"x\":[],\"y\":[],\"type\":\"scatter\"},{\"fill\":\"toself\",\"fillcolor\":\"#deebf7\",\"hoverinfo\":\"none\",\"line\":{\"color\":\"rgb(0, 0, 0)\",\"width\":0},\"mode\":\"lines\",\"name\":\"1.73 - 2.47\",\"x\":[],\"y\":[],\"type\":\"scatter\"},{\"fill\":\"toself\",\"fillcolor\":\"#d2e3f3\",\"hoverinfo\":\"none\",\"line\":{\"color\":\"rgb(0, 0, 0)\",\"width\":0},\"mode\":\"lines\",\"name\":\"2.47 - 3.2\",\"x\":[],\"y\":[],\"type\":\"scatter\"},{\"fill\":\"toself\",\"fillcolor\":\"#c6dbef\",\"hoverinfo\":\"none\",\"line\":{\"color\":\"rgb(0, 0, 0)\",\"width\":0},\"mode\":\"lines\",\"name\":\"3.2 - 3.93\",\"x\":[],\"y\":[],\"type\":\"scatter\"},{\"fill\":\"toself\",\"fillcolor\":\"#b3d2e9\",\"hoverinfo\":\"none\",\"line\":{\"color\":\"rgb(0, 0, 0)\",\"width\":0},\"mode\":\"lines\",\"name\":\"3.93 - 4.67\",\"x\":[],\"y\":[],\"type\":\"scatter\"},{\"fill\":\"toself\",\"fillcolor\":\"#9ecae1\",\"hoverinfo\":\"none\",\"line\":{\"color\":\"rgb(0, 0, 0)\",\"width\":0},\"mode\":\"lines\",\"name\":\"4.67 - 5.4\",\"x\":[],\"y\":[],\"type\":\"scatter\"},{\"fill\":\"toself\",\"fillcolor\":\"#85bcdb\",\"hoverinfo\":\"none\",\"line\":{\"color\":\"rgb(0, 0, 0)\",\"width\":0},\"mode\":\"lines\",\"name\":\"5.4 - 6.13\",\"x\":[],\"y\":[],\"type\":\"scatter\"},{\"fill\":\"toself\",\"fillcolor\":\"#6baed6\",\"hoverinfo\":\"none\",\"line\":{\"color\":\"rgb(0, 0, 0)\",\"width\":0},\"mode\":\"lines\",\"name\":\"6.13 - 6.87\",\"x\":[],\"y\":[],\"type\":\"scatter\"},{\"fill\":\"toself\",\"fillcolor\":\"#57a0ce\",\"hoverinfo\":\"none\",\"line\":{\"color\":\"rgb(0, 0, 0)\",\"width\":0},\"mode\":\"lines\",\"name\":\"6.87 - 7.6\",\"x\":[],\"y\":[],\"type\":\"scatter\"},{\"fill\":\"toself\",\"fillcolor\":\"#4292c6\",\"hoverinfo\":\"none\",\"line\":{\"color\":\"rgb(0, 0, 0)\",\"width\":0},\"mode\":\"lines\",\"name\":\"7.6 - 8.33\",\"x\":[],\"y\":[],\"type\":\"scatter\"},{\"fill\":\"toself\",\"fillcolor\":\"#3082be\",\"hoverinfo\":\"none\",\"line\":{\"color\":\"rgb(0, 0, 0)\",\"width\":0},\"mode\":\"lines\",\"name\":\"8.33 - 9.07\",\"x\":[],\"y\":[],\"type\":\"scatter\"},{\"fill\":\"toself\",\"fillcolor\":\"#2171b5\",\"hoverinfo\":\"none\",\"line\":{\"color\":\"rgb(0, 0, 0)\",\"width\":0},\"mode\":\"lines\",\"name\":\"9.07 - 9.8\",\"x\":[],\"y\":[],\"type\":\"scatter\"},{\"fill\":\"toself\",\"fillcolor\":\"#1361a9\",\"hoverinfo\":\"none\",\"line\":{\"color\":\"rgb(0, 0, 0)\",\"width\":0},\"mode\":\"lines\",\"name\":\"9.8 - 10.53\",\"x\":[],\"y\":[],\"type\":\"scatter\"},{\"fill\":\"toself\",\"fillcolor\":\"#08519c\",\"hoverinfo\":\"none\",\"line\":{\"color\":\"rgb(0, 0, 0)\",\"width\":0},\"mode\":\"lines\",\"name\":\"10.53 - 11.27\",\"x\":[],\"y\":[],\"type\":\"scatter\"},{\"fill\":\"toself\",\"fillcolor\":\"#0b4083\",\"hoverinfo\":\"none\",\"line\":{\"color\":\"rgb(0, 0, 0)\",\"width\":0},\"mode\":\"lines\",\"name\":\"11.27 - 12.0\",\"x\":[],\"y\":[],\"type\":\"scatter\"},{\"fill\":\"toself\",\"fillcolor\":\"#08306b\",\"hoverinfo\":\"none\",\"line\":{\"color\":\"rgb(0, 0, 0)\",\"width\":0},\"mode\":\"lines\",\"name\":\"> 12.0\",\"x\":[],\"y\":[],\"type\":\"scatter\"},{\"hoverinfo\":\"text\",\"legendgroup\":\"centroids\",\"marker\":{\"color\":\"white\",\"opacity\":0},\"mode\":\"markers\",\"name\":\"US Counties\",\"selected\":{\"marker\":{\"opacity\":0}},\"showlegend\":false,\"text\":[],\"unselected\":{\"marker\":{\"opacity\":0}},\"x\":[],\"y\":[],\"type\":\"scatter\"}],                        {\"annotations\":[{\"showarrow\":false,\"text\":\"<b>% unemployed</b>\",\"x\":1,\"xanchor\":\"right\",\"xref\":\"paper\",\"y\":1.05,\"yref\":\"paper\"}],\"dragmode\":\"select\",\"height\":450,\"hovermode\":\"closest\",\"legend\":{\"traceorder\":\"reversed\",\"x\":1,\"xanchor\":\"right\",\"y\":1,\"yanchor\":\"top\"},\"margin\":{\"b\":20,\"l\":20,\"r\":20,\"t\":40},\"title\":{\"text\":\"USA by Unemployment %\"},\"width\":900,\"xaxis\":{\"autorange\":false,\"fixedrange\":true,\"range\":[-125.0,-55.0],\"showgrid\":false,\"showticklabels\":false,\"zeroline\":false},\"yaxis\":{\"autorange\":false,\"fixedrange\":true,\"range\":[24.93103448275862,49.06896551724138],\"showgrid\":false,\"showticklabels\":false,\"zeroline\":false}},                        {\"responsive\": true}                    ).then(function(){\n",
       "                            \n",
       "var gd = document.getElementById('2a1d177f-85f7-4af9-b190-854dec00a99b');\n",
       "var x = new MutationObserver(function (mutations, observer) {{\n",
       "        var display = window.getComputedStyle(gd).display;\n",
       "        if (!display || display === 'none') {{\n",
       "            console.log([gd, 'removed!']);\n",
       "            Plotly.purge(gd);\n",
       "            observer.disconnect();\n",
       "        }}\n",
       "}});\n",
       "\n",
       "// Listen for the removal of the full notebook cells\n",
       "var notebookContainer = gd.closest('#notebook-container');\n",
       "if (notebookContainer) {{\n",
       "    x.observe(notebookContainer, {childList: true});\n",
       "}}\n",
       "\n",
       "// Listen for the clearing of the current output cell\n",
       "var outputEl = gd.closest('.output');\n",
       "if (outputEl) {{\n",
       "    x.observe(outputEl, {childList: true});\n",
       "}}\n",
       "\n",
       "                        })                };                });            </script>        </div>"
      ]
     },
     "metadata": {},
     "output_type": "display_data"
    }
   ],
   "source": [
    "import plotly.figure_factory as ff\n",
    "df['state'] = df_sample['state'].apply(lambda x: str(x).zfill(2))\n",
    "df_sample['FIPS'] = df_sample['State FIPS Code']\n",
    "\n",
    "colorscale = [\"#f7fbff\",\"#ebf3fb\",\"#deebf7\",\"#d2e3f3\",\"#c6dbef\",\"#b3d2e9\",\"#9ecae1\",\n",
    "              \"#85bcdb\",\"#6baed6\",\"#57a0ce\",\"#4292c6\",\"#3082be\",\"#2171b5\",\"#1361a9\",\n",
    "              \"#08519c\",\"#0b4083\",\"#08306b\"]\n",
    "endpts = list(np.linspace(1, 12, len(colorscale) - 1))\n",
    "fips = df_sample['FIPS'].tolist()\n",
    "values = df_sample['Unemployment Rate (%)'].tolist()\n",
    "\n",
    "fig = ff.create_choropleth(\n",
    "    fips=fips, values=values,\n",
    "    binning_endpoints=endpts,\n",
    "    colorscale=colorscale,\n",
    "    show_state_data=False,\n",
    "    show_hover=True, centroid_marker={'opacity': 0},\n",
    "    asp=2.9, title='USA by Unemployment %',\n",
    "    legend_title='% unemployed'\n",
    ")\n",
    "\n",
    "fig.layout.template = None\n",
    "fig.show()"
   ]
  },
  {
   "cell_type": "code",
   "execution_count": 32,
   "id": "4714b30f",
   "metadata": {},
   "outputs": [
    {
     "data": {
      "application/vnd.plotly.v1+json": {
       "config": {
        "plotlyServerURL": "https://plot.ly"
       },
       "data": [
        {
         "autocolorscale": false,
         "hoverinfo": "text",
         "locationmode": "USA-states",
         "locations": [
          "AL",
          "AK",
          "AZ",
          "AR",
          "FL",
          "GA",
          "ID",
          "IN",
          "IA",
          "KS",
          "KY",
          "LA",
          "MI",
          "MS",
          "MO",
          "MT",
          "NE",
          "NC",
          "ND",
          "OH",
          "OK",
          "PA",
          "SC",
          "SD",
          "TN",
          "TX",
          "UT",
          "WV",
          "WI",
          "WY"
         ],
         "name": "Republican",
         "showscale": false,
         "text": [
          "Alabama",
          "Alaska",
          "Arizona",
          "Arkansas",
          "Florida",
          "Georgia",
          "Idaho",
          "Indiana",
          "Iowa",
          "Kansas",
          "Kentucky",
          "Louisiana",
          "Michigan",
          "Mississippi",
          "Missouri",
          "Montana",
          "Nebraska",
          "North Carolina",
          "North Dakota",
          "Ohio",
          "Oklahoma",
          "Pennsylvania",
          "South Carolina",
          "South Dakota",
          "Tennessee",
          "Texas",
          "Utah",
          "West Virginia",
          "Wisconsin",
          "Wyoming"
         ],
         "type": "choropleth",
         "z": [
          "1",
          "1",
          "1",
          "1",
          "1",
          "1",
          "1",
          "1",
          "1",
          "1",
          "1",
          "1",
          "1",
          "1",
          "1",
          "1",
          "1",
          "1",
          "1",
          "1",
          "1",
          "1",
          "1",
          "1",
          "1",
          "1",
          "1",
          "1",
          "1",
          "1"
         ],
         "zauto": false,
         "zmax": 1,
         "zmin": 0
        },
        {
         "autocolorscale": false,
         "hoverinfo": "text",
         "locationmode": "USA-states",
         "locations": [
          "CA",
          "CO",
          "CT",
          "DE",
          "DOC",
          "HI",
          "IL",
          "ME",
          "MD",
          "MA",
          "MN",
          "NV",
          "NH",
          "NJ",
          "NM",
          "NY",
          "OR",
          "RI",
          "VT",
          "VA",
          "WA"
         ],
         "name": "Democrat",
         "showscale": false,
         "text": [
          "California",
          "Colorado",
          "Connecticut",
          "Delaware",
          "District of Columbia",
          "Hawaii",
          "Illinois",
          "Maine",
          "Maryland",
          "Massachusetts",
          "Minnesota",
          "Nevada",
          "New Hampshire",
          "New Jersey",
          "New Mexico",
          "New York",
          "Oregon",
          "Rhode Island",
          "Vermont",
          "Virginia",
          "Washington"
         ],
         "type": "choropleth",
         "z": [
          1,
          1,
          1,
          1,
          1,
          1,
          1,
          1,
          1,
          1,
          1,
          1,
          1,
          1,
          1,
          1,
          1,
          1,
          1,
          1,
          1
         ],
         "zauto": false,
         "zmax": 1,
         "zmin": 0
        }
       ],
       "layout": {
        "autosize": false,
        "geo": {
         "countrycolor": "rgb(102, 102, 102)",
         "countrywidth": 0.1,
         "lakecolor": "rgb(255, 255, 255)",
         "landcolor": "rgba(237, 247, 138, 0.28)",
         "lonaxis": {
          "gridwidth": 1.5999999999999999,
          "range": [
           -180,
           -50
          ],
          "showgrid": false
         },
         "projection": {
          "type": "albers usa"
         },
         "scope": "usa",
         "showland": true,
         "showrivers": false,
         "showsubunits": true,
         "subunitcolor": "rgb(102, 102, 102)",
         "subunitwidth": 0.5
        },
        "hovermode": "closest",
        "margin": {
         "b": 100,
         "l": 0,
         "pad": 4,
         "r": 50,
         "t": 100
        },
        "showlegend": true,
        "template": {
         "data": {
          "bar": [
           {
            "error_x": {
             "color": "#2a3f5f"
            },
            "error_y": {
             "color": "#2a3f5f"
            },
            "marker": {
             "line": {
              "color": "#E5ECF6",
              "width": 0.5
             },
             "pattern": {
              "fillmode": "overlay",
              "size": 10,
              "solidity": 0.2
             }
            },
            "type": "bar"
           }
          ],
          "barpolar": [
           {
            "marker": {
             "line": {
              "color": "#E5ECF6",
              "width": 0.5
             },
             "pattern": {
              "fillmode": "overlay",
              "size": 10,
              "solidity": 0.2
             }
            },
            "type": "barpolar"
           }
          ],
          "carpet": [
           {
            "aaxis": {
             "endlinecolor": "#2a3f5f",
             "gridcolor": "white",
             "linecolor": "white",
             "minorgridcolor": "white",
             "startlinecolor": "#2a3f5f"
            },
            "baxis": {
             "endlinecolor": "#2a3f5f",
             "gridcolor": "white",
             "linecolor": "white",
             "minorgridcolor": "white",
             "startlinecolor": "#2a3f5f"
            },
            "type": "carpet"
           }
          ],
          "choropleth": [
           {
            "colorbar": {
             "outlinewidth": 0,
             "ticks": ""
            },
            "type": "choropleth"
           }
          ],
          "contour": [
           {
            "colorbar": {
             "outlinewidth": 0,
             "ticks": ""
            },
            "colorscale": [
             [
              0,
              "#0d0887"
             ],
             [
              0.1111111111111111,
              "#46039f"
             ],
             [
              0.2222222222222222,
              "#7201a8"
             ],
             [
              0.3333333333333333,
              "#9c179e"
             ],
             [
              0.4444444444444444,
              "#bd3786"
             ],
             [
              0.5555555555555556,
              "#d8576b"
             ],
             [
              0.6666666666666666,
              "#ed7953"
             ],
             [
              0.7777777777777778,
              "#fb9f3a"
             ],
             [
              0.8888888888888888,
              "#fdca26"
             ],
             [
              1,
              "#f0f921"
             ]
            ],
            "type": "contour"
           }
          ],
          "contourcarpet": [
           {
            "colorbar": {
             "outlinewidth": 0,
             "ticks": ""
            },
            "type": "contourcarpet"
           }
          ],
          "heatmap": [
           {
            "colorbar": {
             "outlinewidth": 0,
             "ticks": ""
            },
            "colorscale": [
             [
              0,
              "#0d0887"
             ],
             [
              0.1111111111111111,
              "#46039f"
             ],
             [
              0.2222222222222222,
              "#7201a8"
             ],
             [
              0.3333333333333333,
              "#9c179e"
             ],
             [
              0.4444444444444444,
              "#bd3786"
             ],
             [
              0.5555555555555556,
              "#d8576b"
             ],
             [
              0.6666666666666666,
              "#ed7953"
             ],
             [
              0.7777777777777778,
              "#fb9f3a"
             ],
             [
              0.8888888888888888,
              "#fdca26"
             ],
             [
              1,
              "#f0f921"
             ]
            ],
            "type": "heatmap"
           }
          ],
          "heatmapgl": [
           {
            "colorbar": {
             "outlinewidth": 0,
             "ticks": ""
            },
            "colorscale": [
             [
              0,
              "#0d0887"
             ],
             [
              0.1111111111111111,
              "#46039f"
             ],
             [
              0.2222222222222222,
              "#7201a8"
             ],
             [
              0.3333333333333333,
              "#9c179e"
             ],
             [
              0.4444444444444444,
              "#bd3786"
             ],
             [
              0.5555555555555556,
              "#d8576b"
             ],
             [
              0.6666666666666666,
              "#ed7953"
             ],
             [
              0.7777777777777778,
              "#fb9f3a"
             ],
             [
              0.8888888888888888,
              "#fdca26"
             ],
             [
              1,
              "#f0f921"
             ]
            ],
            "type": "heatmapgl"
           }
          ],
          "histogram": [
           {
            "marker": {
             "pattern": {
              "fillmode": "overlay",
              "size": 10,
              "solidity": 0.2
             }
            },
            "type": "histogram"
           }
          ],
          "histogram2d": [
           {
            "colorbar": {
             "outlinewidth": 0,
             "ticks": ""
            },
            "colorscale": [
             [
              0,
              "#0d0887"
             ],
             [
              0.1111111111111111,
              "#46039f"
             ],
             [
              0.2222222222222222,
              "#7201a8"
             ],
             [
              0.3333333333333333,
              "#9c179e"
             ],
             [
              0.4444444444444444,
              "#bd3786"
             ],
             [
              0.5555555555555556,
              "#d8576b"
             ],
             [
              0.6666666666666666,
              "#ed7953"
             ],
             [
              0.7777777777777778,
              "#fb9f3a"
             ],
             [
              0.8888888888888888,
              "#fdca26"
             ],
             [
              1,
              "#f0f921"
             ]
            ],
            "type": "histogram2d"
           }
          ],
          "histogram2dcontour": [
           {
            "colorbar": {
             "outlinewidth": 0,
             "ticks": ""
            },
            "colorscale": [
             [
              0,
              "#0d0887"
             ],
             [
              0.1111111111111111,
              "#46039f"
             ],
             [
              0.2222222222222222,
              "#7201a8"
             ],
             [
              0.3333333333333333,
              "#9c179e"
             ],
             [
              0.4444444444444444,
              "#bd3786"
             ],
             [
              0.5555555555555556,
              "#d8576b"
             ],
             [
              0.6666666666666666,
              "#ed7953"
             ],
             [
              0.7777777777777778,
              "#fb9f3a"
             ],
             [
              0.8888888888888888,
              "#fdca26"
             ],
             [
              1,
              "#f0f921"
             ]
            ],
            "type": "histogram2dcontour"
           }
          ],
          "mesh3d": [
           {
            "colorbar": {
             "outlinewidth": 0,
             "ticks": ""
            },
            "type": "mesh3d"
           }
          ],
          "parcoords": [
           {
            "line": {
             "colorbar": {
              "outlinewidth": 0,
              "ticks": ""
             }
            },
            "type": "parcoords"
           }
          ],
          "pie": [
           {
            "automargin": true,
            "type": "pie"
           }
          ],
          "scatter": [
           {
            "marker": {
             "colorbar": {
              "outlinewidth": 0,
              "ticks": ""
             }
            },
            "type": "scatter"
           }
          ],
          "scatter3d": [
           {
            "line": {
             "colorbar": {
              "outlinewidth": 0,
              "ticks": ""
             }
            },
            "marker": {
             "colorbar": {
              "outlinewidth": 0,
              "ticks": ""
             }
            },
            "type": "scatter3d"
           }
          ],
          "scattercarpet": [
           {
            "marker": {
             "colorbar": {
              "outlinewidth": 0,
              "ticks": ""
             }
            },
            "type": "scattercarpet"
           }
          ],
          "scattergeo": [
           {
            "marker": {
             "colorbar": {
              "outlinewidth": 0,
              "ticks": ""
             }
            },
            "type": "scattergeo"
           }
          ],
          "scattergl": [
           {
            "marker": {
             "colorbar": {
              "outlinewidth": 0,
              "ticks": ""
             }
            },
            "type": "scattergl"
           }
          ],
          "scattermapbox": [
           {
            "marker": {
             "colorbar": {
              "outlinewidth": 0,
              "ticks": ""
             }
            },
            "type": "scattermapbox"
           }
          ],
          "scatterpolar": [
           {
            "marker": {
             "colorbar": {
              "outlinewidth": 0,
              "ticks": ""
             }
            },
            "type": "scatterpolar"
           }
          ],
          "scatterpolargl": [
           {
            "marker": {
             "colorbar": {
              "outlinewidth": 0,
              "ticks": ""
             }
            },
            "type": "scatterpolargl"
           }
          ],
          "scatterternary": [
           {
            "marker": {
             "colorbar": {
              "outlinewidth": 0,
              "ticks": ""
             }
            },
            "type": "scatterternary"
           }
          ],
          "surface": [
           {
            "colorbar": {
             "outlinewidth": 0,
             "ticks": ""
            },
            "colorscale": [
             [
              0,
              "#0d0887"
             ],
             [
              0.1111111111111111,
              "#46039f"
             ],
             [
              0.2222222222222222,
              "#7201a8"
             ],
             [
              0.3333333333333333,
              "#9c179e"
             ],
             [
              0.4444444444444444,
              "#bd3786"
             ],
             [
              0.5555555555555556,
              "#d8576b"
             ],
             [
              0.6666666666666666,
              "#ed7953"
             ],
             [
              0.7777777777777778,
              "#fb9f3a"
             ],
             [
              0.8888888888888888,
              "#fdca26"
             ],
             [
              1,
              "#f0f921"
             ]
            ],
            "type": "surface"
           }
          ],
          "table": [
           {
            "cells": {
             "fill": {
              "color": "#EBF0F8"
             },
             "line": {
              "color": "white"
             }
            },
            "header": {
             "fill": {
              "color": "#C8D4E3"
             },
             "line": {
              "color": "white"
             }
            },
            "type": "table"
           }
          ]
         },
         "layout": {
          "annotationdefaults": {
           "arrowcolor": "#2a3f5f",
           "arrowhead": 0,
           "arrowwidth": 1
          },
          "autotypenumbers": "strict",
          "coloraxis": {
           "colorbar": {
            "outlinewidth": 0,
            "ticks": ""
           }
          },
          "colorscale": {
           "diverging": [
            [
             0,
             "#8e0152"
            ],
            [
             0.1,
             "#c51b7d"
            ],
            [
             0.2,
             "#de77ae"
            ],
            [
             0.3,
             "#f1b6da"
            ],
            [
             0.4,
             "#fde0ef"
            ],
            [
             0.5,
             "#f7f7f7"
            ],
            [
             0.6,
             "#e6f5d0"
            ],
            [
             0.7,
             "#b8e186"
            ],
            [
             0.8,
             "#7fbc41"
            ],
            [
             0.9,
             "#4d9221"
            ],
            [
             1,
             "#276419"
            ]
           ],
           "sequential": [
            [
             0,
             "#0d0887"
            ],
            [
             0.1111111111111111,
             "#46039f"
            ],
            [
             0.2222222222222222,
             "#7201a8"
            ],
            [
             0.3333333333333333,
             "#9c179e"
            ],
            [
             0.4444444444444444,
             "#bd3786"
            ],
            [
             0.5555555555555556,
             "#d8576b"
            ],
            [
             0.6666666666666666,
             "#ed7953"
            ],
            [
             0.7777777777777778,
             "#fb9f3a"
            ],
            [
             0.8888888888888888,
             "#fdca26"
            ],
            [
             1,
             "#f0f921"
            ]
           ],
           "sequentialminus": [
            [
             0,
             "#0d0887"
            ],
            [
             0.1111111111111111,
             "#46039f"
            ],
            [
             0.2222222222222222,
             "#7201a8"
            ],
            [
             0.3333333333333333,
             "#9c179e"
            ],
            [
             0.4444444444444444,
             "#bd3786"
            ],
            [
             0.5555555555555556,
             "#d8576b"
            ],
            [
             0.6666666666666666,
             "#ed7953"
            ],
            [
             0.7777777777777778,
             "#fb9f3a"
            ],
            [
             0.8888888888888888,
             "#fdca26"
            ],
            [
             1,
             "#f0f921"
            ]
           ]
          },
          "colorway": [
           "#636efa",
           "#EF553B",
           "#00cc96",
           "#ab63fa",
           "#FFA15A",
           "#19d3f3",
           "#FF6692",
           "#B6E880",
           "#FF97FF",
           "#FECB52"
          ],
          "font": {
           "color": "#2a3f5f"
          },
          "geo": {
           "bgcolor": "white",
           "lakecolor": "white",
           "landcolor": "#E5ECF6",
           "showlakes": true,
           "showland": true,
           "subunitcolor": "white"
          },
          "hoverlabel": {
           "align": "left"
          },
          "hovermode": "closest",
          "mapbox": {
           "style": "light"
          },
          "paper_bgcolor": "white",
          "plot_bgcolor": "#E5ECF6",
          "polar": {
           "angularaxis": {
            "gridcolor": "white",
            "linecolor": "white",
            "ticks": ""
           },
           "bgcolor": "#E5ECF6",
           "radialaxis": {
            "gridcolor": "white",
            "linecolor": "white",
            "ticks": ""
           }
          },
          "scene": {
           "xaxis": {
            "backgroundcolor": "#E5ECF6",
            "gridcolor": "white",
            "gridwidth": 2,
            "linecolor": "white",
            "showbackground": true,
            "ticks": "",
            "zerolinecolor": "white"
           },
           "yaxis": {
            "backgroundcolor": "#E5ECF6",
            "gridcolor": "white",
            "gridwidth": 2,
            "linecolor": "white",
            "showbackground": true,
            "ticks": "",
            "zerolinecolor": "white"
           },
           "zaxis": {
            "backgroundcolor": "#E5ECF6",
            "gridcolor": "white",
            "gridwidth": 2,
            "linecolor": "white",
            "showbackground": true,
            "ticks": "",
            "zerolinecolor": "white"
           }
          },
          "shapedefaults": {
           "line": {
            "color": "#2a3f5f"
           }
          },
          "ternary": {
           "aaxis": {
            "gridcolor": "white",
            "linecolor": "white",
            "ticks": ""
           },
           "baxis": {
            "gridcolor": "white",
            "linecolor": "white",
            "ticks": ""
           },
           "bgcolor": "#E5ECF6",
           "caxis": {
            "gridcolor": "white",
            "linecolor": "white",
            "ticks": ""
           }
          },
          "title": {
           "x": 0.05
          },
          "xaxis": {
           "automargin": true,
           "gridcolor": "white",
           "linecolor": "white",
           "ticks": "",
           "title": {
            "standoff": 15
           },
           "zerolinecolor": "white",
           "zerolinewidth": 2
          },
          "yaxis": {
           "automargin": true,
           "gridcolor": "white",
           "linecolor": "white",
           "ticks": "",
           "title": {
            "standoff": 15
           },
           "zerolinecolor": "white",
           "zerolinewidth": 2
          }
         }
        },
        "title": {
         "text": "<b>Map of Election Results</b>"
        },
        "width": 800
       }
      },
      "text/html": [
       "<div>                            <div id=\"c7dc8f10-d048-48ba-bb90-583ece2fa321\" class=\"plotly-graph-div\" style=\"height:525px; width:800px;\"></div>            <script type=\"text/javascript\">                require([\"plotly\"], function(Plotly) {                    window.PLOTLYENV=window.PLOTLYENV || {};                                    if (document.getElementById(\"c7dc8f10-d048-48ba-bb90-583ece2fa321\")) {                    Plotly.newPlot(                        \"c7dc8f10-d048-48ba-bb90-583ece2fa321\",                        [{\"autocolorscale\":false,\"hoverinfo\":\"text\",\"locationmode\":\"USA-states\",\"locations\":[\"AL\",\"AK\",\"AZ\",\"AR\",\"FL\",\"GA\",\"ID\",\"IN\",\"IA\",\"KS\",\"KY\",\"LA\",\"MI\",\"MS\",\"MO\",\"MT\",\"NE\",\"NC\",\"ND\",\"OH\",\"OK\",\"PA\",\"SC\",\"SD\",\"TN\",\"TX\",\"UT\",\"WV\",\"WI\",\"WY\"],\"name\":\"Republican\",\"showscale\":false,\"text\":[\"Alabama\",\"Alaska\",\"Arizona\",\"Arkansas\",\"Florida\",\"Georgia\",\"Idaho\",\"Indiana\",\"Iowa\",\"Kansas\",\"Kentucky\",\"Louisiana\",\"Michigan\",\"Mississippi\",\"Missouri\",\"Montana\",\"Nebraska\",\"North Carolina\",\"North Dakota\",\"Ohio\",\"Oklahoma\",\"Pennsylvania\",\"South Carolina\",\"South Dakota\",\"Tennessee\",\"Texas\",\"Utah\",\"West Virginia\",\"Wisconsin\",\"Wyoming\"],\"z\":[\"1\",\"1\",\"1\",\"1\",\"1\",\"1\",\"1\",\"1\",\"1\",\"1\",\"1\",\"1\",\"1\",\"1\",\"1\",\"1\",\"1\",\"1\",\"1\",\"1\",\"1\",\"1\",\"1\",\"1\",\"1\",\"1\",\"1\",\"1\",\"1\",\"1\"],\"zauto\":false,\"zmax\":1,\"zmin\":0,\"type\":\"choropleth\"},{\"autocolorscale\":false,\"hoverinfo\":\"text\",\"locationmode\":\"USA-states\",\"locations\":[\"CA\",\"CO\",\"CT\",\"DE\",\"DOC\",\"HI\",\"IL\",\"ME\",\"MD\",\"MA\",\"MN\",\"NV\",\"NH\",\"NJ\",\"NM\",\"NY\",\"OR\",\"RI\",\"VT\",\"VA\",\"WA\"],\"name\":\"Democrat\",\"showscale\":false,\"text\":[\"California\",\"Colorado\",\"Connecticut\",\"Delaware\",\"District of Columbia\",\"Hawaii\",\"Illinois\",\"Maine\",\"Maryland\",\"Massachusetts\",\"Minnesota\",\"Nevada\",\"New Hampshire\",\"New Jersey\",\"New Mexico\",\"New York\",\"Oregon\",\"Rhode Island\",\"Vermont\",\"Virginia\",\"Washington\"],\"z\":[1.0,1.0,1.0,1.0,1.0,1.0,1.0,1.0,1.0,1.0,1.0,1.0,1.0,1.0,1.0,1.0,1.0,1.0,1.0,1.0,1.0],\"zauto\":false,\"zmax\":1,\"zmin\":0,\"type\":\"choropleth\"}],                        {\"autosize\":false,\"geo\":{\"countrycolor\":\"rgb(102, 102, 102)\",\"countrywidth\":0.1,\"lakecolor\":\"rgb(255, 255, 255)\",\"landcolor\":\"rgba(237, 247, 138, 0.28)\",\"lonaxis\":{\"gridwidth\":1.5999999999999999,\"range\":[-180,-50],\"showgrid\":false},\"projection\":{\"type\":\"albers usa\"},\"scope\":\"usa\",\"showland\":true,\"showrivers\":false,\"showsubunits\":true,\"subunitcolor\":\"rgb(102, 102, 102)\",\"subunitwidth\":0.5},\"hovermode\":\"closest\",\"margin\":{\"b\":100,\"l\":0,\"pad\":4,\"r\":50,\"t\":100},\"showlegend\":true,\"title\":{\"text\":\"<b>Map of Election Results</b>\"},\"width\":800,\"template\":{\"data\":{\"bar\":[{\"error_x\":{\"color\":\"#2a3f5f\"},\"error_y\":{\"color\":\"#2a3f5f\"},\"marker\":{\"line\":{\"color\":\"#E5ECF6\",\"width\":0.5},\"pattern\":{\"fillmode\":\"overlay\",\"size\":10,\"solidity\":0.2}},\"type\":\"bar\"}],\"barpolar\":[{\"marker\":{\"line\":{\"color\":\"#E5ECF6\",\"width\":0.5},\"pattern\":{\"fillmode\":\"overlay\",\"size\":10,\"solidity\":0.2}},\"type\":\"barpolar\"}],\"carpet\":[{\"aaxis\":{\"endlinecolor\":\"#2a3f5f\",\"gridcolor\":\"white\",\"linecolor\":\"white\",\"minorgridcolor\":\"white\",\"startlinecolor\":\"#2a3f5f\"},\"baxis\":{\"endlinecolor\":\"#2a3f5f\",\"gridcolor\":\"white\",\"linecolor\":\"white\",\"minorgridcolor\":\"white\",\"startlinecolor\":\"#2a3f5f\"},\"type\":\"carpet\"}],\"choropleth\":[{\"colorbar\":{\"outlinewidth\":0,\"ticks\":\"\"},\"type\":\"choropleth\"}],\"contour\":[{\"colorbar\":{\"outlinewidth\":0,\"ticks\":\"\"},\"colorscale\":[[0.0,\"#0d0887\"],[0.1111111111111111,\"#46039f\"],[0.2222222222222222,\"#7201a8\"],[0.3333333333333333,\"#9c179e\"],[0.4444444444444444,\"#bd3786\"],[0.5555555555555556,\"#d8576b\"],[0.6666666666666666,\"#ed7953\"],[0.7777777777777778,\"#fb9f3a\"],[0.8888888888888888,\"#fdca26\"],[1.0,\"#f0f921\"]],\"type\":\"contour\"}],\"contourcarpet\":[{\"colorbar\":{\"outlinewidth\":0,\"ticks\":\"\"},\"type\":\"contourcarpet\"}],\"heatmap\":[{\"colorbar\":{\"outlinewidth\":0,\"ticks\":\"\"},\"colorscale\":[[0.0,\"#0d0887\"],[0.1111111111111111,\"#46039f\"],[0.2222222222222222,\"#7201a8\"],[0.3333333333333333,\"#9c179e\"],[0.4444444444444444,\"#bd3786\"],[0.5555555555555556,\"#d8576b\"],[0.6666666666666666,\"#ed7953\"],[0.7777777777777778,\"#fb9f3a\"],[0.8888888888888888,\"#fdca26\"],[1.0,\"#f0f921\"]],\"type\":\"heatmap\"}],\"heatmapgl\":[{\"colorbar\":{\"outlinewidth\":0,\"ticks\":\"\"},\"colorscale\":[[0.0,\"#0d0887\"],[0.1111111111111111,\"#46039f\"],[0.2222222222222222,\"#7201a8\"],[0.3333333333333333,\"#9c179e\"],[0.4444444444444444,\"#bd3786\"],[0.5555555555555556,\"#d8576b\"],[0.6666666666666666,\"#ed7953\"],[0.7777777777777778,\"#fb9f3a\"],[0.8888888888888888,\"#fdca26\"],[1.0,\"#f0f921\"]],\"type\":\"heatmapgl\"}],\"histogram\":[{\"marker\":{\"pattern\":{\"fillmode\":\"overlay\",\"size\":10,\"solidity\":0.2}},\"type\":\"histogram\"}],\"histogram2d\":[{\"colorbar\":{\"outlinewidth\":0,\"ticks\":\"\"},\"colorscale\":[[0.0,\"#0d0887\"],[0.1111111111111111,\"#46039f\"],[0.2222222222222222,\"#7201a8\"],[0.3333333333333333,\"#9c179e\"],[0.4444444444444444,\"#bd3786\"],[0.5555555555555556,\"#d8576b\"],[0.6666666666666666,\"#ed7953\"],[0.7777777777777778,\"#fb9f3a\"],[0.8888888888888888,\"#fdca26\"],[1.0,\"#f0f921\"]],\"type\":\"histogram2d\"}],\"histogram2dcontour\":[{\"colorbar\":{\"outlinewidth\":0,\"ticks\":\"\"},\"colorscale\":[[0.0,\"#0d0887\"],[0.1111111111111111,\"#46039f\"],[0.2222222222222222,\"#7201a8\"],[0.3333333333333333,\"#9c179e\"],[0.4444444444444444,\"#bd3786\"],[0.5555555555555556,\"#d8576b\"],[0.6666666666666666,\"#ed7953\"],[0.7777777777777778,\"#fb9f3a\"],[0.8888888888888888,\"#fdca26\"],[1.0,\"#f0f921\"]],\"type\":\"histogram2dcontour\"}],\"mesh3d\":[{\"colorbar\":{\"outlinewidth\":0,\"ticks\":\"\"},\"type\":\"mesh3d\"}],\"parcoords\":[{\"line\":{\"colorbar\":{\"outlinewidth\":0,\"ticks\":\"\"}},\"type\":\"parcoords\"}],\"pie\":[{\"automargin\":true,\"type\":\"pie\"}],\"scatter\":[{\"marker\":{\"colorbar\":{\"outlinewidth\":0,\"ticks\":\"\"}},\"type\":\"scatter\"}],\"scatter3d\":[{\"line\":{\"colorbar\":{\"outlinewidth\":0,\"ticks\":\"\"}},\"marker\":{\"colorbar\":{\"outlinewidth\":0,\"ticks\":\"\"}},\"type\":\"scatter3d\"}],\"scattercarpet\":[{\"marker\":{\"colorbar\":{\"outlinewidth\":0,\"ticks\":\"\"}},\"type\":\"scattercarpet\"}],\"scattergeo\":[{\"marker\":{\"colorbar\":{\"outlinewidth\":0,\"ticks\":\"\"}},\"type\":\"scattergeo\"}],\"scattergl\":[{\"marker\":{\"colorbar\":{\"outlinewidth\":0,\"ticks\":\"\"}},\"type\":\"scattergl\"}],\"scattermapbox\":[{\"marker\":{\"colorbar\":{\"outlinewidth\":0,\"ticks\":\"\"}},\"type\":\"scattermapbox\"}],\"scatterpolar\":[{\"marker\":{\"colorbar\":{\"outlinewidth\":0,\"ticks\":\"\"}},\"type\":\"scatterpolar\"}],\"scatterpolargl\":[{\"marker\":{\"colorbar\":{\"outlinewidth\":0,\"ticks\":\"\"}},\"type\":\"scatterpolargl\"}],\"scatterternary\":[{\"marker\":{\"colorbar\":{\"outlinewidth\":0,\"ticks\":\"\"}},\"type\":\"scatterternary\"}],\"surface\":[{\"colorbar\":{\"outlinewidth\":0,\"ticks\":\"\"},\"colorscale\":[[0.0,\"#0d0887\"],[0.1111111111111111,\"#46039f\"],[0.2222222222222222,\"#7201a8\"],[0.3333333333333333,\"#9c179e\"],[0.4444444444444444,\"#bd3786\"],[0.5555555555555556,\"#d8576b\"],[0.6666666666666666,\"#ed7953\"],[0.7777777777777778,\"#fb9f3a\"],[0.8888888888888888,\"#fdca26\"],[1.0,\"#f0f921\"]],\"type\":\"surface\"}],\"table\":[{\"cells\":{\"fill\":{\"color\":\"#EBF0F8\"},\"line\":{\"color\":\"white\"}},\"header\":{\"fill\":{\"color\":\"#C8D4E3\"},\"line\":{\"color\":\"white\"}},\"type\":\"table\"}]},\"layout\":{\"annotationdefaults\":{\"arrowcolor\":\"#2a3f5f\",\"arrowhead\":0,\"arrowwidth\":1},\"autotypenumbers\":\"strict\",\"coloraxis\":{\"colorbar\":{\"outlinewidth\":0,\"ticks\":\"\"}},\"colorscale\":{\"diverging\":[[0,\"#8e0152\"],[0.1,\"#c51b7d\"],[0.2,\"#de77ae\"],[0.3,\"#f1b6da\"],[0.4,\"#fde0ef\"],[0.5,\"#f7f7f7\"],[0.6,\"#e6f5d0\"],[0.7,\"#b8e186\"],[0.8,\"#7fbc41\"],[0.9,\"#4d9221\"],[1,\"#276419\"]],\"sequential\":[[0.0,\"#0d0887\"],[0.1111111111111111,\"#46039f\"],[0.2222222222222222,\"#7201a8\"],[0.3333333333333333,\"#9c179e\"],[0.4444444444444444,\"#bd3786\"],[0.5555555555555556,\"#d8576b\"],[0.6666666666666666,\"#ed7953\"],[0.7777777777777778,\"#fb9f3a\"],[0.8888888888888888,\"#fdca26\"],[1.0,\"#f0f921\"]],\"sequentialminus\":[[0.0,\"#0d0887\"],[0.1111111111111111,\"#46039f\"],[0.2222222222222222,\"#7201a8\"],[0.3333333333333333,\"#9c179e\"],[0.4444444444444444,\"#bd3786\"],[0.5555555555555556,\"#d8576b\"],[0.6666666666666666,\"#ed7953\"],[0.7777777777777778,\"#fb9f3a\"],[0.8888888888888888,\"#fdca26\"],[1.0,\"#f0f921\"]]},\"colorway\":[\"#636efa\",\"#EF553B\",\"#00cc96\",\"#ab63fa\",\"#FFA15A\",\"#19d3f3\",\"#FF6692\",\"#B6E880\",\"#FF97FF\",\"#FECB52\"],\"font\":{\"color\":\"#2a3f5f\"},\"geo\":{\"bgcolor\":\"white\",\"lakecolor\":\"white\",\"landcolor\":\"#E5ECF6\",\"showlakes\":true,\"showland\":true,\"subunitcolor\":\"white\"},\"hoverlabel\":{\"align\":\"left\"},\"hovermode\":\"closest\",\"mapbox\":{\"style\":\"light\"},\"paper_bgcolor\":\"white\",\"plot_bgcolor\":\"#E5ECF6\",\"polar\":{\"angularaxis\":{\"gridcolor\":\"white\",\"linecolor\":\"white\",\"ticks\":\"\"},\"bgcolor\":\"#E5ECF6\",\"radialaxis\":{\"gridcolor\":\"white\",\"linecolor\":\"white\",\"ticks\":\"\"}},\"scene\":{\"xaxis\":{\"backgroundcolor\":\"#E5ECF6\",\"gridcolor\":\"white\",\"gridwidth\":2,\"linecolor\":\"white\",\"showbackground\":true,\"ticks\":\"\",\"zerolinecolor\":\"white\"},\"yaxis\":{\"backgroundcolor\":\"#E5ECF6\",\"gridcolor\":\"white\",\"gridwidth\":2,\"linecolor\":\"white\",\"showbackground\":true,\"ticks\":\"\",\"zerolinecolor\":\"white\"},\"zaxis\":{\"backgroundcolor\":\"#E5ECF6\",\"gridcolor\":\"white\",\"gridwidth\":2,\"linecolor\":\"white\",\"showbackground\":true,\"ticks\":\"\",\"zerolinecolor\":\"white\"}},\"shapedefaults\":{\"line\":{\"color\":\"#2a3f5f\"}},\"ternary\":{\"aaxis\":{\"gridcolor\":\"white\",\"linecolor\":\"white\",\"ticks\":\"\"},\"baxis\":{\"gridcolor\":\"white\",\"linecolor\":\"white\",\"ticks\":\"\"},\"bgcolor\":\"#E5ECF6\",\"caxis\":{\"gridcolor\":\"white\",\"linecolor\":\"white\",\"ticks\":\"\"}},\"title\":{\"x\":0.05},\"xaxis\":{\"automargin\":true,\"gridcolor\":\"white\",\"linecolor\":\"white\",\"ticks\":\"\",\"title\":{\"standoff\":15},\"zerolinecolor\":\"white\",\"zerolinewidth\":2},\"yaxis\":{\"automargin\":true,\"gridcolor\":\"white\",\"linecolor\":\"white\",\"ticks\":\"\",\"title\":{\"standoff\":15},\"zerolinecolor\":\"white\",\"zerolinewidth\":2}}}},                        {\"responsive\": true}                    ).then(function(){\n",
       "                            \n",
       "var gd = document.getElementById('c7dc8f10-d048-48ba-bb90-583ece2fa321');\n",
       "var x = new MutationObserver(function (mutations, observer) {{\n",
       "        var display = window.getComputedStyle(gd).display;\n",
       "        if (!display || display === 'none') {{\n",
       "            console.log([gd, 'removed!']);\n",
       "            Plotly.purge(gd);\n",
       "            observer.disconnect();\n",
       "        }}\n",
       "}});\n",
       "\n",
       "// Listen for the removal of the full notebook cells\n",
       "var notebookContainer = gd.closest('#notebook-container');\n",
       "if (notebookContainer) {{\n",
       "    x.observe(notebookContainer, {childList: true});\n",
       "}}\n",
       "\n",
       "// Listen for the clearing of the current output cell\n",
       "var outputEl = gd.closest('.output');\n",
       "if (outputEl) {{\n",
       "    x.observe(outputEl, {childList: true});\n",
       "}}\n",
       "\n",
       "                        })                };                });            </script>        </div>"
      ]
     },
     "metadata": {},
     "output_type": "display_data"
    }
   ],
   "source": [
    "# Get this figure: fig = py.get_figure(\"https://plotly.com/~amaras3/18/\")\n",
    "# Get this figure's data: data = py.get_figure(\"https://plotly.com/~amaras3/18/\").get_data()\n",
    "# Add data to this figure: py.plot(Data([Scatter(x=[1, 2], y=[2, 3])]), filename =\"Pace\", fileopt=\"extend\")\n",
    "# Get z data of first trace: z1 = py.get_figure(\"https://plotly.com/~amaras3/18/\").get_data()[0][\"z\"]\n",
    "\n",
    "# Get figure documentation: https://plotly.com/python/get-requests/\n",
    "# Add data documentation: https://plotly.com/python/file-options/\n",
    "\n",
    "# If you're using unicode in your file, you may need to specify the encoding.\n",
    "# You can reproduce this figure in Python with the following code!\n",
    "\n",
    "# Learn about API authentication here: https://plotly.com/python/getting-started\n",
    "# Find your api_key here: https://plotly.com/settings/api\n",
    "\n",
    "import plotly as py\n",
    "from plotly.graph_objs import *\n",
    "trace1 = {\n",
    "  \"name\": \"Republican\", \n",
    "  \"type\": \"choropleth\", \n",
    "  \"zmax\": 1, \n",
    "  \"zmin\": 0, \n",
    "  \"z\": [\"1\", \"1\", \"1\", \"1\", \"1\", \"1\", \"1\", \"1\", \"1\", \"1\", \"1\", \"1\", \"1\", \"1\", \"1\", \"1\", \"1\", \"1\", \"1\", \"1\", \"1\", \"1\", \"1\", \"1\", \"1\", \"1\", \"1\", \"1\", \"1\", \"1\"], \n",
    "  \"zauto\": False, \n",
    "  \"text\": [\"Alabama\", \"Alaska\", \"Arizona\", \"Arkansas\", \"Florida\", \"Georgia\", \"Idaho\", \"Indiana\", \"Iowa\", \"Kansas\", \"Kentucky\", \"Louisiana\", \"Michigan\", \"Mississippi\", \"Missouri\", \"Montana\", \"Nebraska\", \"North Carolina\", \"North Dakota\", \"Ohio\", \"Oklahoma\", \"Pennsylvania\", \"South Carolina\", \"South Dakota\", \"Tennessee\", \"Texas\", \"Utah\", \"West Virginia\", \"Wisconsin\", \"Wyoming\"], \n",
    "  \"hoverinfo\": \"text\", \n",
    "  \"showscale\": False, \n",
    "  \"locationmode\": \"USA-states\", \n",
    "  \"locations\": [\"AL\", \"AK\", \"AZ\", \"AR\", \"FL\", \"GA\", \"ID\", \"IN\", \"IA\", \"KS\", \"KY\", \"LA\", \"MI\", \"MS\", \"MO\", \"MT\", \"NE\", \"NC\", \"ND\", \"OH\", \"OK\", \"PA\", \"SC\", \"SD\", \"TN\", \"TX\", \"UT\", \"WV\", \"WI\", \"WY\"], \n",
    "  \"autocolorscale\": False\n",
    "}\n",
    "trace2 = {\n",
    "  \"name\": \"Democrat\", \n",
    "  \"type\": \"choropleth\", \n",
    "  \"zmax\": 1, \n",
    "  \"zmin\": 0, \n",
    "  \"z\": [1.0, 1.0, 1.0, 1.0, 1.0, 1.0, 1.0, 1.0, 1.0, 1.0, 1.0, 1.0, 1.0, 1.0, 1.0, 1.0, 1.0, 1.0, 1.0, 1.0, 1.0], \n",
    "  \"zauto\": False, \n",
    "  \"text\": [\"California\", \"Colorado\", \"Connecticut\", \"Delaware\", \"District of Columbia\", \"Hawaii\", \"Illinois\", \"Maine\", \"Maryland\", \"Massachusetts\", \"Minnesota\", \"Nevada\", \"New Hampshire\", \"New Jersey\", \"New Mexico\", \"New York\", \"Oregon\", \"Rhode Island\", \"Vermont\", \"Virginia\", \"Washington\"], \n",
    "  \"hoverinfo\": \"text\", \n",
    "  \"showscale\": False, \n",
    "  \"locationmode\": \"USA-states\", \n",
    "  \"locations\": [\"CA\", \"CO\", \"CT\", \"DE\", \"DOC\", \"HI\", \"IL\", \"ME\", \"MD\", \"MA\", \"MN\", \"NV\", \"NH\", \"NJ\", \"NM\", \"NY\", \"OR\", \"RI\", \"VT\", \"VA\", \"WA\"], \n",
    "  \"autocolorscale\": False\n",
    "}\n",
    "data = Data([trace1, trace2])\n",
    "layout = {\n",
    "  \"geo\": {\n",
    "    \"scope\": \"usa\", \n",
    "    \"lonaxis\": {\n",
    "      \"range\": [-180, -50], \n",
    "      \"showgrid\": False, \n",
    "      \"gridwidth\": 1.5999999999999999\n",
    "    }, \n",
    "    \"showland\": True, \n",
    "    \"lakecolor\": \"rgb(255, 255, 255)\", \n",
    "    \"landcolor\": \"rgba(237, 247, 138, 0.28)\", \n",
    "    \"projection\": {\"type\": \"albers usa\"}, \n",
    "    \"showrivers\": False, \n",
    "    \"countrycolor\": \"rgb(102, 102, 102)\", \n",
    "    \"countrywidth\": 0.1, \n",
    "    \"showsubunits\": True, \n",
    "    \"subunitcolor\": \"rgb(102, 102, 102)\", \n",
    "    \"subunitwidth\": 0.5\n",
    "  }, \n",
    "  \"title\": \"<b>Map of Election Results</b>\", \n",
    "  \"width\": 800, \n",
    "  \"margin\": {\n",
    "    \"b\": 100, \n",
    "    \"l\": 0, \n",
    "    \"r\": 50, \n",
    "    \"t\": 100, \n",
    "    \"pad\": 4\n",
    "  }, \n",
    "  \"autosize\": False, \n",
    "  \"hovermode\": \"closest\", \n",
    "  \"showlegend\": True\n",
    "}\n",
    "fig = Figure(data=data, layout=layout)\n",
    "fig.show()"
   ]
  },
  {
   "cell_type": "code",
   "execution_count": null,
   "id": "2faf48be",
   "metadata": {},
   "outputs": [],
   "source": []
  },
  {
   "cell_type": "code",
   "execution_count": null,
   "id": "ebc9e327",
   "metadata": {},
   "outputs": [],
   "source": []
  }
 ],
 "metadata": {
  "kernelspec": {
   "display_name": "Python 3 (ipykernel)",
   "language": "python",
   "name": "python3"
  },
  "language_info": {
   "codemirror_mode": {
    "name": "ipython",
    "version": 3
   },
   "file_extension": ".py",
   "mimetype": "text/x-python",
   "name": "python",
   "nbconvert_exporter": "python",
   "pygments_lexer": "ipython3",
   "version": "3.10.2"
  }
 },
 "nbformat": 4,
 "nbformat_minor": 5
}
