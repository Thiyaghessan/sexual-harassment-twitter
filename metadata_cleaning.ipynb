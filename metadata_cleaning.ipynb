{
 "cells": [
  {
   "cell_type": "code",
   "execution_count": 2,
   "id": "707266b8",
   "metadata": {},
   "outputs": [],
   "source": [
    "import pandas as pd"
   ]
  },
  {
   "cell_type": "code",
   "execution_count": 332,
   "id": "1c5c28e4",
   "metadata": {},
   "outputs": [],
   "source": [
    "def main_preprocessor(name, congress=False):\n",
    "    df = pd.read_csv(name + \".csv\")\n",
    "    df[[\"state_name\", \"state\"]] = df.state.str.split(\" - \",\n",
    "                                                     expand=True)\n",
    "    df = df.rename(columns={\"District\": \"district\"})\n",
    "    if congress == True:\n",
    "        df[\"district\"] = df[\"district\"].apply(district_at_large)\n",
    "    return df\n",
    "\n",
    "def preprocessor(name, feature):\n",
    "    df = pd.read_csv(name + \".csv\")\n",
    "    df[\"name\"] = df[\"name\"].str.replace(r\"^b'\", \"\")\n",
    "    df[\"name\"] = df[\"name\"].str.replace(r\"'\", \"\")\n",
    "    df[\"name\"] = df[\"name\"].str.replace(r\"\\\\xc3\\\\xa1\", \"a\")\n",
    "    df[\"name\"] = df[\"name\"].str.replace(r\"\\\\xc3\\\\xb3\", \"o\")\n",
    "    df = df.rename(columns={\"name\": \"Last Name\"})\n",
    "    df = df[[\"Last Name\", feature, \"state\", \"district\"]]\n",
    "    return df\n",
    "\n",
    "def data_merge(main_df, ideology_df, leadership_df, criteria):\n",
    "    df_final = pd.merge(main_df, ideology_df, on=criteria, how=\"left\")\n",
    "    df_final = pd.merge(df_final, leadership_df, on=criteria, how=\"left\")\n",
    "    return df_final[['ID', 'Year', 'First Name', 'Middle Name', 'Last Name', 'party',\n",
    "                     'Level', 'Position', 'state', 'race_ethnicity',\n",
    "                     'state_name', 'ideology','leadership', \"district\"]]\n",
    "\n",
    "def district_at_large(dist):\n",
    "    dist = str(dist)\n",
    "    if dist == \"AL\":\n",
    "        return 0\n",
    "    else:\n",
    "        dist = dist.replace(\"0\", \"\")\n",
    "        return int(dist)"
   ]
  },
  {
   "cell_type": "code",
   "execution_count": 339,
   "id": "07ed4896",
   "metadata": {},
   "outputs": [
    {
     "name": "stdout",
     "output_type": "stream",
     "text": [
      "        ID  Year First Name Middle Name  Last Name       party     Level  \\\n",
      "0  159127k  2022      Tammy         NaN    Baldwin    Democrat  Congress   \n",
      "1  198986k  2022     Marsha         NaN  Blackburn  Republican  Congress   \n",
      "2  205537k  2022      Maria         NaN   Cantwell    Democrat  Congress   \n",
      "3  200084k  2022    Shelley       Moore     Capito  Republican  Congress   \n",
      "4  165234k  2022      Susan         NaN    Collins  Republican  Congress   \n",
      "\n",
      "       Position state district_x race_ethnicity     state_name  ideology  \\\n",
      "0  U.S. Senator    WI        S02          White      Wisconsin  0.209314   \n",
      "1  U.S. Senator    TN        S02          White      Tennessee  1.000000   \n",
      "2  U.S. Senator    WA        S02          White     Washington  0.341586   \n",
      "3  U.S. Senator    WV        S02          White  West Virginia  0.755178   \n",
      "4  U.S. Senator    ME        S01          White          Maine  0.608876   \n",
      "\n",
      "   district_y  leadership  district  \n",
      "0         NaN    0.655926       NaN  \n",
      "1         NaN    0.495382       NaN  \n",
      "2         NaN    0.362143       NaN  \n",
      "3         NaN    0.327467       NaN  \n",
      "4         NaN    0.751838       NaN  \n",
      "        ID  Year First Name Middle Name Last Name       party     Level  \\\n",
      "0  196595k  2022       Alma          S.     Adams    Democrat  Congress   \n",
      "1  627442k  2022      Cindy         NaN      Axne    Democrat  Congress   \n",
      "2  226476k  2022      Karen          R.      Bass    Democrat  Congress   \n",
      "3  197852k  2022      Joyce          B.    Beatty    Democrat  Congress   \n",
      "4  495403k  2022  Stephanie         NaN      Bice  Republican  Congress   \n",
      "\n",
      "              Position state  district race_ethnicity      state_name  \\\n",
      "0  U.S. Representative    NC        12          Black  North Carolina   \n",
      "1  U.S. Representative    IA         3          White            Iowa   \n",
      "2  U.S. Representative    CA        37          Black      California   \n",
      "3  U.S. Representative    OH         3          Black            Ohio   \n",
      "4  U.S. Representative    OK         5          White        Oklahoma   \n",
      "\n",
      "   ideology  leadership  \n",
      "0  0.221420    0.736368  \n",
      "1  0.508275    0.465520  \n",
      "2  0.153370    0.849639  \n",
      "3  0.254428    0.639839  \n",
      "4       NaN         NaN  \n"
     ]
    },
    {
     "name": "stderr",
     "output_type": "stream",
     "text": [
      "C:\\Users\\thiya\\AppData\\Local\\Temp\\ipykernel_27304\\2808340490.py:25: FutureWarning: The default value of regex will change from True to False in a future version.\n",
      "  df[\"name\"] = df[\"name\"].str.replace(r\"^b'\", \"\")\n",
      "C:\\Users\\thiya\\AppData\\Local\\Temp\\ipykernel_27304\\2808340490.py:27: FutureWarning: The default value of regex will change from True to False in a future version.\n",
      "  df[\"name\"] = df[\"name\"].str.replace(r\"\\\\xc3\\\\xa1\", \"a\")\n",
      "C:\\Users\\thiya\\AppData\\Local\\Temp\\ipykernel_27304\\2808340490.py:28: FutureWarning: The default value of regex will change from True to False in a future version.\n",
      "  df[\"name\"] = df[\"name\"].str.replace(r\"\\\\xc3\\\\xb3\", \"o\")\n",
      "C:\\Users\\thiya\\AppData\\Local\\Temp\\ipykernel_27304\\2808340490.py:25: FutureWarning: The default value of regex will change from True to False in a future version.\n",
      "  df[\"name\"] = df[\"name\"].str.replace(r\"^b'\", \"\")\n",
      "C:\\Users\\thiya\\AppData\\Local\\Temp\\ipykernel_27304\\2808340490.py:27: FutureWarning: The default value of regex will change from True to False in a future version.\n",
      "  df[\"name\"] = df[\"name\"].str.replace(r\"\\\\xc3\\\\xa1\", \"a\")\n",
      "C:\\Users\\thiya\\AppData\\Local\\Temp\\ipykernel_27304\\2808340490.py:28: FutureWarning: The default value of regex will change from True to False in a future version.\n",
      "  df[\"name\"] = df[\"name\"].str.replace(r\"\\\\xc3\\\\xb3\", \"o\")\n",
      "C:\\Users\\thiya\\AppData\\Local\\Temp\\ipykernel_27304\\2808340490.py:25: FutureWarning: The default value of regex will change from True to False in a future version.\n",
      "  df[\"name\"] = df[\"name\"].str.replace(r\"^b'\", \"\")\n",
      "C:\\Users\\thiya\\AppData\\Local\\Temp\\ipykernel_27304\\2808340490.py:27: FutureWarning: The default value of regex will change from True to False in a future version.\n",
      "  df[\"name\"] = df[\"name\"].str.replace(r\"\\\\xc3\\\\xa1\", \"a\")\n",
      "C:\\Users\\thiya\\AppData\\Local\\Temp\\ipykernel_27304\\2808340490.py:28: FutureWarning: The default value of regex will change from True to False in a future version.\n",
      "  df[\"name\"] = df[\"name\"].str.replace(r\"\\\\xc3\\\\xb3\", \"o\")\n",
      "C:\\Users\\thiya\\AppData\\Local\\Temp\\ipykernel_27304\\2808340490.py:25: FutureWarning: The default value of regex will change from True to False in a future version.\n",
      "  df[\"name\"] = df[\"name\"].str.replace(r\"^b'\", \"\")\n",
      "C:\\Users\\thiya\\AppData\\Local\\Temp\\ipykernel_27304\\2808340490.py:27: FutureWarning: The default value of regex will change from True to False in a future version.\n",
      "  df[\"name\"] = df[\"name\"].str.replace(r\"\\\\xc3\\\\xa1\", \"a\")\n",
      "C:\\Users\\thiya\\AppData\\Local\\Temp\\ipykernel_27304\\2808340490.py:28: FutureWarning: The default value of regex will change from True to False in a future version.\n",
      "  df[\"name\"] = df[\"name\"].str.replace(r\"\\\\xc3\\\\xb3\", \"o\")\n"
     ]
    }
   ],
   "source": [
    "#Senators Bio\n",
    "senate = main_preprocessor(\"senate_women\")\n",
    "#Congress Bio\n",
    "congress = main_preprocessor(\"congress_women\", congress=True)\n",
    "#Senate Ideology Scores\n",
    "senate_ideology = preprocessor(\"senate_ideology\", \"ideology\")\n",
    "#Senate Leadership Scores\n",
    "senate_leadership = preprocessor(\"senate_leadership\", \"leadership\")\n",
    "#merge\n",
    "senate_women = data_merge(senate,\n",
    "                          senate_ideology,\n",
    "                          senate_leadership,\n",
    "                          [\"Last Name\",\n",
    "                           \"state\"])\n",
    "senate_women = senate_women.fillna({\"district\": 0})\n",
    "#congress ideology scores\n",
    "congress_ideology = preprocessor(\"congress_ideology\", \"ideology\")\n",
    "#congress leadership scores\n",
    "congress_leadership = preprocessor(\"congress_leadership\", \"leadership\")\n",
    "#merge\n",
    "congress_women = data_merge(congress,\n",
    "                            congress_ideology,\n",
    "                            congress_leadership,\n",
    "                            [\"Last Name\",\n",
    "                             \"state\",\n",
    "                             \"district\"])"
   ]
  },
  {
   "cell_type": "code",
   "execution_count": 340,
   "id": "7742f098",
   "metadata": {},
   "outputs": [],
   "source": [
    "twitter_handles = pd.read_csv(\"twitter_handles.csv\")\n",
    "twitter_handles = twitter_handles.rename(columns={\"Name\": \"Full Name\"})\n",
    "twitter_handles = twitter_handles[[\"Full Name\", \"Link\", \"User_name\"]]"
   ]
  },
  {
   "cell_type": "code",
   "execution_count": 341,
   "id": "6496d11f",
   "metadata": {},
   "outputs": [
    {
     "data": {
      "text/plain": [
       "146"
      ]
     },
     "execution_count": 341,
     "metadata": {},
     "output_type": "execute_result"
    }
   ],
   "source": [
    "women_in_office = pd.concat([senate_women, congress_women])\n",
    "women_in_office[\"Middle Name\"].fillna(\"\", inplace=True)\n",
    "women_in_office[\"Full Name\"] = women_in_office[\"First Name\"] + \" \" + women_in_office[\"Middle Name\"] + \" \" + women_in_office[\"Last Name\"]\n",
    "women_in_office[\"Full Name\"] = women_in_office[\"Full Name\"].str.replace(\"  \", \" \")\n",
    "women_in_office = pd.merge(women_in_office, twitter_handles, on=\"Full Name\")\n",
    "len(women_in_office)"
   ]
  }
 ],
 "metadata": {
  "kernelspec": {
   "display_name": "Python 3 (ipykernel)",
   "language": "python",
   "name": "python3"
  },
  "language_info": {
   "codemirror_mode": {
    "name": "ipython",
    "version": 3
   },
   "file_extension": ".py",
   "mimetype": "text/x-python",
   "name": "python",
   "nbconvert_exporter": "python",
   "pygments_lexer": "ipython3",
   "version": "3.8.12"
  }
 },
 "nbformat": 4,
 "nbformat_minor": 5
}
